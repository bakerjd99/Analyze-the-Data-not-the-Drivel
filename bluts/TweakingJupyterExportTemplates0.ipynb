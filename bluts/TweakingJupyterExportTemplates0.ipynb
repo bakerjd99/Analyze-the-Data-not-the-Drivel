{
 "cells": [
  {
   "cell_type": "markdown",
   "metadata": {},
   "source": [
    "In a [previous post](https://analyzethedatanotthedrivel.org/2020/06/01/better-blogging-with-jupyter-notebooks-on-wordpress-com/), I outlined some handy hacks for converting Jupyter notebooks to WordPress.com oriented HTML. This addendum describes the use of [Jupyter templates](https://www.datacamp.com/community/tutorials/jinja2-custom-export-templates-jupyter) and CSS edits to fine-tune exported HTML.\n",
    "\n",
    "Jupyter exports notebooks in a variety of formats. I regularly export notebooks as Markdown, HTML, and $\\LaTeX$. When blogging I mainly use HTML and Markdown. Standard \n",
    "HTML output labels code blocks with numbered prompts and indents text. The following [Rust](https://www.rust-lang.org/) [hello world](https://en.wikipedia.org/wiki/%22Hello,_World!%22_program) program illustrates this layout."
   ]
  },
  {
   "cell_type": "code",
   "execution_count": 2,
   "metadata": {},
   "outputs": [
    {
     "name": "stdout",
     "output_type": "stream",
     "text": [
      "Hello World!\n"
     ]
    },
    {
     "data": {
      "text/plain": [
       "()"
      ]
     },
     "execution_count": 2,
     "metadata": {},
     "output_type": "execute_result"
    }
   ],
   "source": [
    "// This is the main function\n",
    "fn main() {\n",
    "    // Statements here are executed when the compiled binary is called\n",
    "\n",
    "    // Print text to the console\n",
    "    println!(\"Hello World!\");\n",
    "}\n",
    "\n",
    "main()"
   ]
  },
  {
   "cell_type": "markdown",
   "metadata": {},
   "source": [
    "For a few simple examples numbered indented blocks are fine but for longer posts, the redundant numbering and space-wasting indents grow tiresome. I used standard HTML output for [Using jodliterate](https://analyzethedatanotthedrivel.org/2020/05/25/using-jodliterate/) and around  prompt `In[7]:` I was irritated with Jupyter's defaults.\n",
    "\n",
    "Here's something you should know about me.\n",
    "\n",
    "***I don't like being irritated!***\n",
    "\n",
    "In addition to indented numbered prompts the standard format suffers from other [*boo-boos*](https://www.dictionary.com/browse/boo-boo) when run through [Benny's](https://github.com/bennylp) Jupyter to WordPress.com [transmogrifier](https://calvinandhobbes.fandom.com/wiki/Transmogrifier). Markdown source code like `source` code `McCodeyFace` is set off in ugly blocks and any use of $\\LaTeX$ generates hideous inline images with nontransparent backgrounds like:\n",
    "\n",
    "$\\varphi (u) = \\int_{\\Omega} \\left[\n",
    "\\dfrac{\\|\\nabla u\\|^2}{2} +\n",
    "\\lambda\\dfrac{u^2}{2} -\n",
    "\\dfrac{(u^+)^p}{p} \\right] d\\mu $\n",
    "\n",
    "You can hack the background color of WordPress.com $\\LaTeX$ by bolting in a HEX color code suffix. This blog's background color is *currently* set to `cfcdcd` so `\\sqrt[n]{1+x+x^2+x^3+\\dots+x^n}&bg=cfcdcd` yields:\n",
    "\n",
    "$\\sqrt[n]{1+x+x^2+x^3+\\dots+x^n}$\n",
    "\n",
    "As far as I know, there is no global WordPress.com \n",
    "$\\LaTeX$ background color setting. You are forced to hard code the suffix into\n",
    "every expression and if you ever change your theme's background color you have to\n",
    "do it all over again.\n",
    "\n",
    "***Remember that bit about how I don't like being irritated?***\n",
    "\n",
    "Hard coding is euphemistically called a [\"code smell.\"](https://www.codegrip.tech/productivity/everything-you-need-to-know-about-code-smells/) In this case, it's a foul stench.\n",
    "This isn't Jupyter's fault. Jupyter sensibly uses [MathJaX](https://www.mathjax.org/) to render mathematics with proper scaled outline fonts, but MathJax is an external JavaScript library and WordPress.com does not allow cheap peons like *moi* to drag in alien JavaScript libraries.\n",
    "\n",
    "> Side note to WordPress.com. Make an exception to your no JavaScript rule for MathJax. MathJax is a well\n",
    "> established standard library and you're being pigheaded by not allowing it.\n",
    "\n",
    "Some of these problems can be fixed with CSS tweaks, Jupyter templates, and `nb2wp` edits."
   ]
  }
 ],
 "metadata": {
  "kernelspec": {
   "display_name": "Rust",
   "language": "rust",
   "name": "rust"
  },
  "language_info": {
   "codemirror_mode": "rust",
   "file_extension": ".rs",
   "mimetype": "text/rust",
   "name": "Rust",
   "pygment_lexer": "rust",
   "version": ""
  }
 },
 "nbformat": 4,
 "nbformat_minor": 2
}
