{
 "cells": [
  {
   "cell_type": "markdown",
   "metadata": {},
   "source": [
    "#### Tweaking Jupyter export formats\n",
    "\n",
    "You can adjust Jupyter export formats with templates. Templates modify how \n",
    "[nbconvert](https://nbconvert.readthedocs.io/en/latest/) transforms notebook JSON `.ipynb` files into HTML, Markdown, and other formats. Here's a good basic [introduction to Jupyter templates](https://nbconvert.readthedocs.io/en/latest/customizing.html).\n",
    "\n",
    "Jupyter templates are versatile and powerful but with \"*great formatting power comes extreme annoyance.*\" I don't want to learn yet another programming language to tweak my fricking blog! Fortunately, it's not necessary to get deep in the [jinja](https://jinja.palletsprojects.com/en/2.11.x/) weeds to remove a few block labels. The following template `tpl` file meets my meager needs.\n",
    "\n",
    "#### A brain dead Jupyter template: blankfull.tpl\n",
    "\n",
    "```PYTHON\n",
    "{% extends 'full.tpl'%}\n",
    "\n",
    "## change the appearance of execution count\n",
    "{% block in_prompt %}\n",
    "&nbsp;&nbsp;&nbsp;&nbsp;\n",
    "{% endblock in_prompt %}\n",
    "\n",
    "{% block prompt %}\n",
    "{% endblock prompt %}\n",
    "\n",
    "{% block output_area_prompt %}\n",
    "&nbsp;&nbsp;&nbsp;&nbsp;\n",
    "{% endblock output_area_prompt %}\n",
    "\n",
    "{% block output_area %}\n",
    "{% endblock output_area %}\n",
    "```\n",
    "\n",
    "Save the preceding as UTF-8 text with extension `tpl` in Jupyter's `nbconvert` share directory. \n",
    "The location of this directory will vary for different systems. On this Windows 10 machine it can be found here:\n",
    "\n",
    "```\n",
    "C:\\Anaconda\\share\\jupyter\\nbconvert\\templates\\html\n",
    "```\n",
    "\n",
    "Refer to `nbconvert` documentation to determine where to save `tpl` files on your system.\n",
    "\n",
    "Stashing a custom template in the proper location removes block prompts and indentation but it doesn't\n",
    "fix CSS issues. The [CSS style file](https://github.com/bennylp/nb2wp/blob/master/style.css) distributed with `nb2wp`\n",
    "needs a few lines changed to prevent `MarkdownText` from getting a white background. The values after the line numbers \n",
    "on the left are the settings you need to give `CodeyMcCodeFace` text `FRAGMENTS` transparent backgrounds. \n",
    "\n",
    "```CSS\n",
    " 1077:   background-color: transparent;  background-color: #fff;\n",
    " 1529:   background-color: transparent;  background-color: #f9f2f4;\n",
    "10126:   background-color: transparent;  background-color: #fff;\n",
    "```\n",
    "\n",
    "Finally, to control annoying $\\LaTeX$ color backgrounds add another argument\n",
    "`bg_color_hex=''` to the the Python function `nb2wp`. "
   ]
  },
  {
   "cell_type": "markdown",
   "metadata": {},
   "source": [
    "#### Running nb2wp with adjustments"
   ]
  },
  {
   "cell_type": "code",
   "execution_count": 1,
   "metadata": {},
   "outputs": [],
   "source": [
    "import os\n",
    "import sys\n",
    "\n",
    "# append nb2* script directory to system path\n",
    "sys.path.append(r'C:\\temp\\nb2wp')\n",
    "\n",
    "import nb2wput as nbu"
   ]
  },
  {
   "cell_type": "code",
   "execution_count": 2,
   "metadata": {},
   "outputs": [],
   "source": [
    "# set notebook files - the source for this blog post\n",
    "nb_file_0 = r'C:\\temp\\nb2wp\\TweakingJupyterExportTemplates0.ipynb'\n",
    "nb_file_1 = r'C:\\temp\\nb2wp\\TweakingJupyterExportTemplates1.ipynb'"
   ]
  },
  {
   "cell_type": "code",
   "execution_count": 3,
   "metadata": {
    "scrolled": false
   },
   "outputs": [
    {
     "name": "stdout",
     "output_type": "stream",
     "text": [
      "Using template: full\n",
      "Using CSS files ['C:\\\\temp\\\\nb2wp\\\\style.css']\n",
      "Saving CSS to C:\\temp\\nb2wp\\tmp\\style.css\n",
      "C:\\temp\\nb2wp\\tmp\\TweakingJupyterExportTemplates0.html: 23132 bytes written in 7.650s\n"
     ]
    }
   ],
   "source": [
    "# convert notebook with (nb2wp) using\n",
    "# defaults for unspecified arguments\n",
    "nbu.nb2wp(nb_file_0, out_dir=r'C:\\temp\\nb2wp\\tmp',\n",
    "    css_files=[r'C:\\temp\\nb2wp\\style.css'], save_css=True, \n",
    "    remove_attrs=True, template='full', latex=\"wp\",\n",
    "    img_dir=r'C:\\temp\\nb2wp\\tmp\\img', footer=False)"
   ]
  },
  {
   "cell_type": "code",
   "execution_count": 4,
   "metadata": {
    "scrolled": false
   },
   "outputs": [
    {
     "name": "stdout",
     "output_type": "stream",
     "text": [
      "Using template: blankfull\n",
      "Using CSS files ['C:\\\\temp\\\\nb2wp\\\\my_nb2wp_style.css']\n",
      "Saving CSS to C:\\temp\\nb2wp\\tmp\\style.css\n",
      "C:\\temp\\nb2wp\\tmp\\TweakingJupyterExportTemplates1.html: 57127 bytes written in 12.055s\n"
     ]
    }
   ],
   "source": [
    "# convert notebook using tweaked CSS and custom template\n",
    "nbu.nb2wp(nb_file_1, out_dir=r'C:\\temp\\nb2wp\\tmp',\n",
    "    css_files=[r'C:\\temp\\nb2wp\\my_nb2wp_style.css'], save_css=True, \n",
    "    remove_attrs=True, template='blankfull', latex=\"wp\", bg_color_hex='cfcdcd',\n",
    "    img_dir=r'C:\\temp\\nb2wp\\tmp\\img', footer=False)"
   ]
  }
 ],
 "metadata": {
  "kernelspec": {
   "display_name": "Python 3",
   "language": "python",
   "name": "python3"
  },
  "language_info": {
   "codemirror_mode": {
    "name": "ipython",
    "version": 3
   },
   "file_extension": ".py",
   "mimetype": "text/x-python",
   "name": "python",
   "nbconvert_exporter": "python",
   "pygments_lexer": "ipython3",
   "version": "3.7.4"
  }
 },
 "nbformat": 4,
 "nbformat_minor": 2
}
