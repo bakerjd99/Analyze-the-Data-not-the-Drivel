{
 "cells": [
  {
   "cell_type": "markdown",
   "metadata": {},
   "source": [
    "# nb2wput Test"
   ]
  },
  {
   "cell_type": "code",
   "execution_count": 5,
   "metadata": {},
   "outputs": [],
   "source": [
    "import os\n",
    "import sys\n",
    "\n",
    "# append nb2* script directory to system path\n",
    "sys.path.append(r'C:\\temp\\nb2wp')\n",
    "\n",
    "import nb2wput as nbu"
   ]
  },
  {
   "cell_type": "code",
   "execution_count": 6,
   "metadata": {},
   "outputs": [
    {
     "data": {
      "text/plain": [
       "'C:/Users/john.baker/bixml/nb2wp/'"
      ]
     },
     "execution_count": 6,
     "metadata": {},
     "output_type": "execute_result"
    }
   ],
   "source": [
    "# nb2subnb output directory - use directory seen by jupyter\n",
    "nbu.NB_DIRECTORY"
   ]
  },
  {
   "cell_type": "code",
   "execution_count": 7,
   "metadata": {},
   "outputs": [],
   "source": [
    "#nb_file = r'C:\\temp\\nb2wp\\UsingJodliterate.ipynb'\n",
    "nb_file = r'C:\\Users\\john.baker\\bixml\\BetterBloggingWithJupyter.ipynb'"
   ]
  },
  {
   "cell_type": "code",
   "execution_count": 8,
   "metadata": {
    "scrolled": true
   },
   "outputs": [
    {
     "data": {
      "text/plain": [
       "['C:/Users/john.baker/bixml/nb2wp/BetterBloggingWithJupyter-markdown-0.ipynb',\n",
       " 'C:/Users/john.baker/bixml/nb2wp/BetterBloggingWithJupyter-markdown-1.ipynb',\n",
       " 'C:/Users/john.baker/bixml/nb2wp/BetterBloggingWithJupyter-markdown-2.ipynb',\n",
       " 'C:/Users/john.baker/bixml/nb2wp/BetterBloggingWithJupyter-markdown-3.ipynb',\n",
       " 'C:/Users/john.baker/bixml/nb2wp/BetterBloggingWithJupyter-markdown-4.ipynb',\n",
       " 'C:/Users/john.baker/bixml/nb2wp/BetterBloggingWithJupyter-markdown-6.ipynb',\n",
       " 'C:/Users/john.baker/bixml/nb2wp/BetterBloggingWithJupyter-markdown-7.ipynb',\n",
       " 'C:/Users/john.baker/bixml/nb2wp/BetterBloggingWithJupyter-markdown-8.ipynb',\n",
       " 'C:/Users/john.baker/bixml/nb2wp/BetterBloggingWithJupyter-markdown-13.ipynb']"
      ]
     },
     "execution_count": 8,
     "metadata": {},
     "output_type": "execute_result"
    }
   ],
   "source": [
    "# split into n markdown cell notebooks\n",
    "nbu.nb2subnb(nb_file)"
   ]
  },
  {
   "cell_type": "code",
   "execution_count": 9,
   "metadata": {},
   "outputs": [
    {
     "data": {
      "text/plain": [
       "5"
      ]
     },
     "execution_count": 9,
     "metadata": {},
     "output_type": "execute_result"
    }
   ],
   "source": [
    "# split into n code cell notebooks\n",
    "nb_cell_files = nbu.nb2subnb(nb_file, cell_type='code')\n",
    "len(nb_cell_files)"
   ]
  },
  {
   "cell_type": "code",
   "execution_count": 10,
   "metadata": {},
   "outputs": [
    {
     "data": {
      "text/plain": [
       "['C:/Users/john.baker/bixml/nb2wp/BetterBloggingWithJupyter-markdown-only.ipynb']"
      ]
     },
     "execution_count": 10,
     "metadata": {},
     "output_type": "execute_result"
    }
   ],
   "source": [
    "# all markdown cells in single notebook\n",
    "nbu.nb2subnb(nb_file, single_nb='True')"
   ]
  },
  {
   "cell_type": "code",
   "execution_count": 11,
   "metadata": {},
   "outputs": [],
   "source": [
    "# set notebook splitting options\n",
    "nb2subnb_parms = {\n",
    "    'single_nb': True,              \n",
    "    'cell_type': 'code',            \n",
    "    'keep_cells': list(range(20)),  \n",
    "    'keep_texts': []\n",
    "}"
   ]
  },
  {
   "cell_type": "code",
   "execution_count": 12,
   "metadata": {},
   "outputs": [
    {
     "name": "stdout",
     "output_type": "stream",
     "text": [
      "['C:/Users/john.baker/bixml/nb2wp/BetterBloggingWithJupyter-code-only.ipynb']\n"
     ]
    }
   ],
   "source": [
    "# code cells with cell numbers in range as single notebook\n",
    "nb_cell_files = nbu.nb2subnb(nb_file, **nb2subnb_parms)\n",
    "print(nb_cell_files)"
   ]
  },
  {
   "cell_type": "code",
   "execution_count": 13,
   "metadata": {},
   "outputs": [
    {
     "name": "stdout",
     "output_type": "stream",
     "text": [
      "['C:/Users/john.baker/bixml/nb2wp/BetterBloggingWithJupyter-code-5.ipynb']\n"
     ]
    }
   ],
   "source": [
    "# all code cells in range with string 'pacman' \n",
    "nb_cell_files = nbu.nb2subnb(nb_file, cell_type='code', \n",
    "         keep_texts=['pacman'], keep_cells=list(range(30)))\n",
    "print(nb_cell_files)"
   ]
  },
  {
   "cell_type": "code",
   "execution_count": 14,
   "metadata": {},
   "outputs": [
    {
     "data": {
      "text/plain": [
       "['C:/Users/john.baker/bixml/nb2wp/BetterBloggingWithJupyter-markdown-only.ipynb']"
      ]
     },
     "execution_count": 14,
     "metadata": {},
     "output_type": "execute_result"
    }
   ],
   "source": [
    "# all markdown cells with strings 'literate' or 'github' \n",
    "nbu.nb2subnb(nb_file, single_nb='True',\n",
    "         keep_texts=['Bhagavad ','github'])"
   ]
  },
  {
   "cell_type": "code",
   "execution_count": 15,
   "metadata": {},
   "outputs": [
    {
     "data": {
      "text/plain": [
       "['C:/Users/john.baker/bixml/nb2wp/BetterBloggingWithJupyter-code-only.ipynb']"
      ]
     },
     "execution_count": 15,
     "metadata": {},
     "output_type": "execute_result"
    }
   ],
   "source": [
    "# code cells with cell numbers in range as single notebook\n",
    "nbu.nb2subnb(nb_file, cell_type='code', \n",
    "    single_nb='True', keep_cells=list(range(10)))"
   ]
  },
  {
   "cell_type": "code",
   "execution_count": 16,
   "metadata": {},
   "outputs": [
    {
     "data": {
      "text/plain": [
       "['C:/Users/john.baker/bixml/nb2wp/BetterBloggingWithJupyter-markdown-only.ipynb']"
      ]
     },
     "execution_count": 16,
     "metadata": {},
     "output_type": "execute_result"
    }
   ],
   "source": [
    "# all markdown cells with strings 'Bhagavad' or 'github' \n",
    "nbu.nb2subnb(nb_file, single_nb='True',\n",
    "            keep_texts=['Bhagavad','github'])"
   ]
  },
  {
   "cell_type": "code",
   "execution_count": 17,
   "metadata": {},
   "outputs": [
    {
     "name": "stdout",
     "output_type": "stream",
     "text": [
      "['C:/Users/john.baker/bixml/nb2wp/BetterBloggingWithJupyter-code-5.ipynb']\n"
     ]
    }
   ],
   "source": [
    "# all code cells in range with string 'pacman' \n",
    "nb_cell_files = nbu.nb2subnb(nb_file, cell_type='code',\n",
    "    keep_texts=['pacman'], keep_cells=list(range(30)))\n",
    "print(nb_cell_files)"
   ]
  },
  {
   "cell_type": "code",
   "execution_count": 18,
   "metadata": {
    "scrolled": true
   },
   "outputs": [],
   "source": [
    "# display function help \n",
    "#help(nbu.nb2subnb)\n",
    "#help(nbu.nb2wp)"
   ]
  },
  {
   "cell_type": "code",
   "execution_count": 28,
   "metadata": {
    "scrolled": false
   },
   "outputs": [
    {
     "name": "stdout",
     "output_type": "stream",
     "text": [
      "Using template: full\n",
      "Using CSS files ['C:\\\\temp\\\\nb2wp\\\\style.css']\n",
      "Saving CSS to C:\\temp\\nb2wp\\tmp\\style.css\n",
      "C:\\temp\\nb2wp\\tmp\\BetterBloggingWithJupyter.html: 95501 bytes written in 13.997s\n"
     ]
    }
   ],
   "source": [
    "# convert entire notebook with (nb2wp)\n",
    "nbu.nb2wp(nb_file, out_dir=r'C:\\temp\\nb2wp\\tmp',\n",
    "    css_files=[r'C:\\temp\\nb2wp\\style.css'], save_css=True, remove_attrs=False,\n",
    "    img_dir=r'C:\\temp\\nb2wp\\tmp\\img', footer=False)"
   ]
  },
  {
   "cell_type": "code",
   "execution_count": 20,
   "metadata": {},
   "outputs": [],
   "source": [
    "nb2wp_parms = {\n",
    "    'out_dir': r'C:\\temp\\nb2wp\\tmp',\n",
    "    'css_files': [r'C:\\temp\\nb2wp\\style.css'],\n",
    "    'save_css': True,\n",
    "    'remove_attrs': False,\n",
    "    'img_dir': 'C:\\temp\\nb2wp\\tmp\\img', \n",
    "    'footer': False,\n",
    "    'quiet': False\n",
    "}"
   ]
  },
  {
   "cell_type": "code",
   "execution_count": 21,
   "metadata": {},
   "outputs": [
    {
     "data": {
      "text/plain": [
       "{'out_dir': 'C:\\\\temp\\\\nb2wp\\\\tmp',\n",
       " 'css_files': ['C:\\\\temp\\\\nb2wp\\\\style.css'],\n",
       " 'save_css': True,\n",
       " 'remove_attrs': False,\n",
       " 'img_dir': 'C:\\temp\\nb2wp\\tmp\\\\img',\n",
       " 'footer': False,\n",
       " 'quiet': False}"
      ]
     },
     "execution_count": 21,
     "metadata": {},
     "output_type": "execute_result"
    }
   ],
   "source": [
    "nbu.nb2wp_defaults"
   ]
  },
  {
   "cell_type": "code",
   "execution_count": 22,
   "metadata": {},
   "outputs": [
    {
     "data": {
      "text/plain": [
       "{'single_nb': False, 'cell_type': 'code', 'keep_cells': [], 'keep_texts': []}"
      ]
     },
     "execution_count": 22,
     "metadata": {},
     "output_type": "execute_result"
    }
   ],
   "source": [
    "nbu.nb2subnb_defaults"
   ]
  },
  {
   "cell_type": "code",
   "execution_count": 23,
   "metadata": {},
   "outputs": [],
   "source": [
    "nb2subnb_parms = {\n",
    "    'single_nb': False,              \n",
    "    'cell_type': 'code',            \n",
    "    'keep_cells': [],  \n",
    "    'keep_texts': []\n",
    "}"
   ]
  },
  {
   "cell_type": "code",
   "execution_count": 24,
   "metadata": {},
   "outputs": [
    {
     "name": "stdout",
     "output_type": "stream",
     "text": [
      "Using template: full\n",
      "Using CSS files ['C:\\\\temp\\\\nb2wp\\\\style.css']\n",
      "Saving CSS to C:\\temp\\nb2wp\\tmp\\style.css\n",
      "C:\\temp\\nb2wp\\tmp\\BetterBloggingWithJupyter-code-5.html: 44035 bytes written in 11.941s\n",
      "Using template: full\n",
      "Using CSS files ['C:\\\\temp\\\\nb2wp\\\\style.css']\n",
      "Saving CSS to C:\\temp\\nb2wp\\tmp\\style.css\n",
      "C:\\temp\\nb2wp\\tmp\\BetterBloggingWithJupyter-code-9.html: 5682 bytes written in 4.745s\n",
      "Using template: full\n",
      "Using CSS files ['C:\\\\temp\\\\nb2wp\\\\style.css']\n",
      "Saving CSS to C:\\temp\\nb2wp\\tmp\\style.css\n",
      "C:\\temp\\nb2wp\\tmp\\BetterBloggingWithJupyter-code-10.html: 4770 bytes written in 4.425s\n",
      "Using template: full\n",
      "Using CSS files ['C:\\\\temp\\\\nb2wp\\\\style.css']\n",
      "Saving CSS to C:\\temp\\nb2wp\\tmp\\style.css\n",
      "C:\\temp\\nb2wp\\tmp\\BetterBloggingWithJupyter-code-11.html: 7117 bytes written in 4.896s\n",
      "Using template: full\n",
      "Using CSS files ['C:\\\\temp\\\\nb2wp\\\\style.css']\n",
      "Saving CSS to C:\\temp\\nb2wp\\tmp\\style.css\n",
      "C:\\temp\\nb2wp\\tmp\\BetterBloggingWithJupyter-code-12.html: 8898 bytes written in 5.314s\n"
     ]
    }
   ],
   "source": [
    "# split out parts of notebook and convert to HTML\n",
    "nbu.nb2wpblk(nb_file, nb2subnb_parms=nb2subnb_parms, nb2wp_parms=nb2wp_parms)"
   ]
  },
  {
   "cell_type": "code",
   "execution_count": 25,
   "metadata": {},
   "outputs": [],
   "source": [
    "nb2subnb_parms = {\n",
    "    'single_nb': False,              \n",
    "    'cell_type': 'markdown',            \n",
    "    'keep_cells': [],  \n",
    "    'keep_texts': []\n",
    "}"
   ]
  },
  {
   "cell_type": "code",
   "execution_count": 26,
   "metadata": {},
   "outputs": [
    {
     "name": "stdout",
     "output_type": "stream",
     "text": [
      "Using template: full\n",
      "Using CSS files ['C:\\\\temp\\\\nb2wp\\\\style.css']\n",
      "Saving CSS to C:\\temp\\nb2wp\\tmp\\style.css\n",
      "C:\\temp\\nb2wp\\tmp\\BetterBloggingWithJupyter-markdown-0.html: 6978 bytes written in 4.392s\n",
      "Using template: full\n",
      "Using CSS files ['C:\\\\temp\\\\nb2wp\\\\style.css']\n",
      "Saving CSS to C:\\temp\\nb2wp\\tmp\\style.css\n",
      "C:\\temp\\nb2wp\\tmp\\BetterBloggingWithJupyter-markdown-1.html: 3634 bytes written in 4.123s\n",
      "Using template: full\n",
      "Using CSS files ['C:\\\\temp\\\\nb2wp\\\\style.css']\n",
      "Saving CSS to C:\\temp\\nb2wp\\tmp\\style.css\n",
      "C:\\temp\\nb2wp\\tmp\\BetterBloggingWithJupyter-markdown-2.html: 6819 bytes written in 5.218s\n",
      "Using template: full\n",
      "Using CSS files ['C:\\\\temp\\\\nb2wp\\\\style.css']\n",
      "Saving CSS to C:\\temp\\nb2wp\\tmp\\style.css\n",
      "C:\\temp\\nb2wp\\tmp\\BetterBloggingWithJupyter-markdown-3.html: 3643 bytes written in 4.315s\n",
      "Using template: full\n",
      "Using CSS files ['C:\\\\temp\\\\nb2wp\\\\style.css']\n",
      "Saving CSS to C:\\temp\\nb2wp\\tmp\\style.css\n",
      "C:\\temp\\nb2wp\\tmp\\BetterBloggingWithJupyter-markdown-4.html: 4072 bytes written in 4.507s\n",
      "Using template: full\n",
      "Using CSS files ['C:\\\\temp\\\\nb2wp\\\\style.css']\n",
      "Saving CSS to C:\\temp\\nb2wp\\tmp\\style.css\n",
      "C:\\temp\\nb2wp\\tmp\\BetterBloggingWithJupyter-markdown-6.html: 3666 bytes written in 4.993s\n",
      "Using template: full\n",
      "Using CSS files ['C:\\\\temp\\\\nb2wp\\\\style.css']\n",
      "Saving CSS to C:\\temp\\nb2wp\\tmp\\style.css\n",
      "C:\\temp\\nb2wp\\tmp\\BetterBloggingWithJupyter-markdown-7.html: 3676 bytes written in 4.695s\n",
      "Using template: full\n",
      "Using CSS files ['C:\\\\temp\\\\nb2wp\\\\style.css']\n",
      "Saving CSS to C:\\temp\\nb2wp\\tmp\\style.css\n",
      "C:\\temp\\nb2wp\\tmp\\BetterBloggingWithJupyter-markdown-8.html: 4421 bytes written in 4.477s\n",
      "Using template: full\n",
      "Using CSS files ['C:\\\\temp\\\\nb2wp\\\\style.css']\n",
      "Saving CSS to C:\\temp\\nb2wp\\tmp\\style.css\n",
      "C:\\temp\\nb2wp\\tmp\\BetterBloggingWithJupyter-markdown-13.html: 3345 bytes written in 4.649s\n"
     ]
    }
   ],
   "source": [
    "nbu.nb2wpblk(nb_file, nb2subnb_parms=nb2subnb_parms, nb2wp_parms=nb2wp_parms)"
   ]
  },
  {
   "cell_type": "code",
   "execution_count": null,
   "metadata": {},
   "outputs": [],
   "source": []
  }
 ],
 "metadata": {
  "kernelspec": {
   "display_name": "Python 3",
   "language": "python",
   "name": "python3"
  },
  "language_info": {
   "codemirror_mode": {
    "name": "ipython",
    "version": 3
   },
   "file_extension": ".py",
   "mimetype": "text/x-python",
   "name": "python",
   "nbconvert_exporter": "python",
   "pygments_lexer": "ipython3",
   "version": "3.7.4"
  }
 },
 "nbformat": 4,
 "nbformat_minor": 2
}
