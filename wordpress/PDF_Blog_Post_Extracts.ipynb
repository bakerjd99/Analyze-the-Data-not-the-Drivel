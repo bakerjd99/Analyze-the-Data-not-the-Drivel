{
 "cells": [
  {
   "cell_type": "markdown",
   "id": "0090c195",
   "metadata": {},
   "source": [
    "# PDF Blog Post Extracts\n",
    "\n",
    "This J notebook generates annotated versions of particular posts from the blog\n",
    "[Analyze the Data not the Drivel](https://analyzethedatanotthedrivel.org/). \n",
    "\n",
    "The generated extracts are linked in post preambles. This lets\n",
    "readers download small self contained documents instead of the large\n",
    "compilation [https://github.com/bakerjd99/Analyze-the-Data-not-the-Drivel/blob/master/wp2latex/bm.pdf](https://github.com/bakerjd99/Analyze-the-Data-not-the-Drivel/blob/master/wp2latex/bm.pdf)."
   ]
  },
  {
   "cell_type": "code",
   "execution_count": 1,
   "id": "5b825d71",
   "metadata": {},
   "outputs": [
    {
     "name": "stdout",
     "output_type": "stream",
     "text": [
      "\n",
      "j904/j64avx512/windows/beta-i/commercial/www.jsoftware.com/2022-12-13T15:12:27/clang-14-0-6/SLEEF=1\n",
      "05 Jan 2023 11:05:38\n"
     ]
    }
   ],
   "source": [
    "NB. J version - notebook runtime\n",
    "smoutput 9!:14''\n",
    "smoutput timestamp 6!:0 ''"
   ]
  },
  {
   "cell_type": "code",
   "execution_count": 2,
   "id": "221ef5b5",
   "metadata": {},
   "outputs": [
    {
     "name": "stdout",
     "output_type": "stream",
     "text": [
      "NB. (ExtfrPtex) interface word(s): 20230105j110412\n",
      "NB. ------------------------------\n",
      "NB. CleanExtract      NB. cleanup temp latex files\n",
      "NB. CompExtractLatex  NB. process extract files\n",
      "NB. PrepExtractLatex  NB. prepare single post extract LaTeX\n",
      "\n"
     ]
    }
   ],
   "source": [
    "load 'ExtfrPtex'"
   ]
  },
  {
   "cell_type": "code",
   "execution_count": 3,
   "id": "50f97043",
   "metadata": {},
   "outputs": [
    {
     "name": "stdout",
     "output_type": "stream",
     "text": [
      "_1 _1\n"
     ]
    }
   ],
   "source": [
    "NB. remove any laTeX temp build files\n",
    "CleanExtract 0"
   ]
  },
  {
   "cell_type": "code",
   "execution_count": 4,
   "id": "ab02ffdc",
   "metadata": {},
   "outputs": [
    {
     "name": "stdout",
     "output_type": "stream",
     "text": [
      "c:/pd/blog/wp2latex/*.tex\n",
      "wordpresstolatexwith2518.tex\n",
      "writingportablejaddo3059.tex    yellowstoneandme4186.tex\n",
      "yetanothernewyear7274.tex       yourbitcoinsarenowwe4729.tex\n",
      "             254 File(s)      1,616,171 bytes\n",
      "               0 Dir(s)  650,685,497,344 bytes free\n",
      "\n"
     ]
    }
   ],
   "source": [
    "NB. sample blog LaTeX\n",
    "_250 {. shell 'dir /w ', winpathsep showpass jpath '~BLOGTEX/*.tex'"
   ]
  },
  {
   "cell_type": "code",
   "execution_count": 5,
   "id": "1ab6fc7f",
   "metadata": {},
   "outputs": [
    {
     "name": "stdout",
     "output_type": "stream",
     "text": [
      "┌───────────────────────────────────┬─────────────────────────────────────┬────────────────────────────────────────────────┐\n",
      "│c:/pd/blog/wp2latex/0abmextract.bat│c:/pd/blog/wp2latex/bmpostextract.tex│c:/pd/blog/wp2latex/numpyanotheriversong5565.tex│\n",
      "└───────────────────────────────────┴─────────────────────────────────────┴────────────────────────────────────────────────┘\n"
     ]
    }
   ],
   "source": [
    "PrepExtractLatex 'numpyanotheriversong5565'"
   ]
  },
  {
   "cell_type": "code",
   "execution_count": 6,
   "id": "b9228b57",
   "metadata": {},
   "outputs": [
    {
     "name": "stdout",
     "output_type": "stream",
     "text": [
      "extract generated -> c:/pd/blog/wp2latex/numpyanotheriversong5565.pdf\n",
      "nts/opentype/public/lm/l\n",
      "mroman12-bold.otf><//?/c:/program files/miktex/fonts/opentype/public/lm/lmroman\n",
      "12-regular.otf>\n",
      "Output written on numpyanotheriversong5565.pdf (7 pages, 228312 bytes).\n",
      "Transcript written on numpyanotheriversong5565.log.\n",
      "\n"
     ]
    }
   ],
   "source": [
    "NB. compile prepared files\n",
    "CompExtractLatex 'numpyanotheriversong5565'"
   ]
  },
  {
   "cell_type": "code",
   "execution_count": 7,
   "id": "53d9190b",
   "metadata": {},
   "outputs": [
    {
     "name": "stdout",
     "output_type": "stream",
     "text": [
      "1 1\n"
     ]
    }
   ],
   "source": [
    "NB. cleanup\n",
    "CleanExtract 0"
   ]
  },
  {
   "cell_type": "code",
   "execution_count": 8,
   "id": "0b8707ef",
   "metadata": {},
   "outputs": [
    {
     "name": "stdout",
     "output_type": "stream",
     "text": [
      "┌───────────────────────────────────┬─────────────────────────────────────┬────────────────────────────────────────────────┐\n",
      "│c:/pd/blog/wp2latex/0abmextract.bat│c:/pd/blog/wp2latex/bmpostextract.tex│c:/pd/blog/wp2latex/runningssispackagesw7103.tex│\n",
      "└───────────────────────────────────┴─────────────────────────────────────┴────────────────────────────────────────────────┘\n"
     ]
    }
   ],
   "source": [
    "PrepExtractLatex 'runningssispackagesw7103'"
   ]
  },
  {
   "cell_type": "code",
   "execution_count": 9,
   "id": "9ef2562b",
   "metadata": {},
   "outputs": [
    {
     "name": "stdout",
     "output_type": "stream",
     "text": [
      "extract generated -> c:/pd/blog/wp2latex/runningssispackagesw7103.pdf\n",
      "fonts/opentype/public/lm/lmroman12-bold.otf><//?/c:/program fi\n",
      "les/miktex/fonts/opentype/public/lm/lmroman12-regular.otf>\n",
      "Output written on runningssispackagesw7103.pdf (3 pages, 158459 bytes).\n",
      "Transcript written on runningssispackagesw7103.log.\n",
      "\n"
     ]
    }
   ],
   "source": [
    "CompExtractLatex 'runningssispackagesw7103'"
   ]
  },
  {
   "cell_type": "code",
   "execution_count": 10,
   "id": "4dbfbcbe",
   "metadata": {},
   "outputs": [
    {
     "name": "stdout",
     "output_type": "stream",
     "text": [
      "1 1\n"
     ]
    }
   ],
   "source": [
    "CleanExtract 0"
   ]
  },
  {
   "cell_type": "code",
   "execution_count": null,
   "id": "9bcbdb96",
   "metadata": {},
   "outputs": [],
   "source": []
  }
 ],
 "metadata": {
  "kernelspec": {
   "display_name": "J",
   "language": "J",
   "name": "jkernel"
  },
  "language_info": {
   "file_extension": ".ijs",
   "mimetype": "text/J",
   "name": "J"
  }
 },
 "nbformat": 4,
 "nbformat_minor": 5
}
