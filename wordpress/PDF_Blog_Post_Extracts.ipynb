{
 "cells": [
  {
   "cell_type": "markdown",
   "id": "0090c195",
   "metadata": {},
   "source": [
    "# PDF Blog Post Extracts\n",
    "\n",
    "This J notebook generates annotated versions of particular posts from the blog\n",
    "[Analyze the Data not the Drivel](https://analyzethedatanotthedrivel.org/). \n",
    "\n",
    "The generated extracts are linked in post preambles. This lets\n",
    "readers download small self contained documents instead of the large\n",
    "compilation [https://github.com/bakerjd99/Analyze-the-Data-not-the-Drivel/blob/master/wp2latex/bm.pdf](https://github.com/bakerjd99/Analyze-the-Data-not-the-Drivel/blob/master/wp2latex/bm.pdf)."
   ]
  },
  {
   "cell_type": "code",
   "execution_count": 22,
   "id": "5b825d71",
   "metadata": {},
   "outputs": [
    {
     "name": "stdout",
     "output_type": "stream",
     "text": [
      "j904/j64avx512/windows/beta-i/commercial/www.jsoftware.com/2022-12-13T15:12:27/clang-14-0-6/SLEEF=1\n",
      "05 Jan 2023 15:11:01\n"
     ]
    }
   ],
   "source": [
    "NB. J version - notebook runtime\n",
    "smoutput 9!:14''\n",
    "smoutput timestamp 6!:0 ''"
   ]
  },
  {
   "cell_type": "code",
   "execution_count": 23,
   "id": "221ef5b5",
   "metadata": {},
   "outputs": [
    {
     "name": "stdout",
     "output_type": "stream",
     "text": [
      "NB. (ExtfrPtex) interface word(s): 20230105j140806\n",
      "NB. ------------------------------\n",
      "NB. CleanExtract      NB. cleanup temp latex files\n",
      "NB. CompExtractLatex  NB. process extract files\n",
      "NB. PrepExtractLatex  NB. prepare single post extract LaTeX\n",
      "\n"
     ]
    }
   ],
   "source": [
    "load 'ExtfrPtex'"
   ]
  },
  {
   "cell_type": "code",
   "execution_count": 24,
   "id": "50f97043",
   "metadata": {},
   "outputs": [
    {
     "name": "stdout",
     "output_type": "stream",
     "text": [
      "_1 _1\n"
     ]
    }
   ],
   "source": [
    "NB. remove any laTeX temp build files\n",
    "CleanExtract 0"
   ]
  },
  {
   "cell_type": "code",
   "execution_count": 27,
   "id": "a531ce19",
   "metadata": {},
   "outputs": [],
   "source": [
    "NB. remove all extract PDFs\n",
    "blgdir=. jpath '~BLOGTEX\\'\n",
    "0 0$ferase (1 dir blgdir,'*.pdf') -. <blgdir,'bm.pdf'"
   ]
  },
  {
   "cell_type": "code",
   "execution_count": 28,
   "id": "ab02ffdc",
   "metadata": {
    "scrolled": true
   },
   "outputs": [
    {
     "name": "stdout",
     "output_type": "stream",
     "text": [
      "c:/pd/blog/wp2latex/aplsoftwarearchaeolo4415.tex\n",
      "c:/pd/blog/wp2latex/ckrajugeniusorcrankp722.tex \n",
      "c:/pd/blog/wp2latex/numpyanotheriversong5565.tex\n",
      "c:/pd/blog/wp2latex/runningssispackagesw7103.tex\n"
     ]
    }
   ],
   "source": [
    "NB. show posts marked for extract\n",
    "> tex #~ PostHeadMark&(+./@E.)@read&> tex=: 1 dir jpath blgdir,'*.tex'"
   ]
  },
  {
   "cell_type": "code",
   "execution_count": 29,
   "id": "1ab6fc7f",
   "metadata": {},
   "outputs": [],
   "source": [
    "NB. PrepExtractLatex 'numpyanotheriversong5565'"
   ]
  },
  {
   "cell_type": "code",
   "execution_count": 30,
   "id": "b9228b57",
   "metadata": {},
   "outputs": [],
   "source": [
    "NB. compile prepared files\n",
    "NB. CompExtractLatex 'numpyanotheriversong5565'"
   ]
  },
  {
   "cell_type": "code",
   "execution_count": 31,
   "id": "53d9190b",
   "metadata": {},
   "outputs": [],
   "source": [
    "NB. cleanup\n",
    "NB. CleanExtract 0"
   ]
  },
  {
   "cell_type": "code",
   "execution_count": 32,
   "id": "0b8707ef",
   "metadata": {},
   "outputs": [],
   "source": [
    "NB. PrepExtractLatex 'runningssispackagesw7103'"
   ]
  },
  {
   "cell_type": "code",
   "execution_count": 33,
   "id": "9ef2562b",
   "metadata": {},
   "outputs": [],
   "source": [
    "NB. CompExtractLatex 'runningssispackagesw7103'"
   ]
  },
  {
   "cell_type": "code",
   "execution_count": 34,
   "id": "4dbfbcbe",
   "metadata": {},
   "outputs": [],
   "source": [
    "NB. CleanExtract 0"
   ]
  },
  {
   "cell_type": "code",
   "execution_count": 35,
   "id": "ec900cd5",
   "metadata": {},
   "outputs": [],
   "source": [
    "NB. PrepExtractLatex 'aplsoftwarearchaeolo4415'"
   ]
  },
  {
   "cell_type": "code",
   "execution_count": 36,
   "id": "53156a20",
   "metadata": {},
   "outputs": [],
   "source": [
    "NB. CompExtractLatex 'aplsoftwarearchaeolo4415'"
   ]
  },
  {
   "cell_type": "code",
   "execution_count": 37,
   "id": "18440f16",
   "metadata": {},
   "outputs": [],
   "source": [
    "NB. CleanExtract 0"
   ]
  },
  {
   "cell_type": "code",
   "execution_count": 38,
   "id": "390fb206",
   "metadata": {},
   "outputs": [],
   "source": [
    "NB. PrepExtractLatex 'ckrajugeniusorcrankp722'"
   ]
  },
  {
   "cell_type": "code",
   "execution_count": 39,
   "id": "852cfa7b",
   "metadata": {},
   "outputs": [],
   "source": [
    "NB. CompExtractLatex 'ckrajugeniusorcrankp722'"
   ]
  },
  {
   "cell_type": "code",
   "execution_count": 40,
   "id": "35981cb5",
   "metadata": {},
   "outputs": [],
   "source": [
    "NB. CleanExtract 0"
   ]
  },
  {
   "cell_type": "code",
   "execution_count": 41,
   "id": "881f66c1",
   "metadata": {},
   "outputs": [
    {
     "name": "stdout",
     "output_type": "stream",
     "text": [
      "\n"
     ]
    }
   ],
   "source": [
    "NB. generated PDFs\n",
    ">(1 dir blgdir,'*.pdf') -. <blgdir,'bm.pdf'"
   ]
  },
  {
   "cell_type": "markdown",
   "id": "71b2b14f",
   "metadata": {},
   "source": [
    "All done - thanks for playing!"
   ]
  }
 ],
 "metadata": {
  "kernelspec": {
   "display_name": "J",
   "language": "J",
   "name": "jkernel"
  },
  "language_info": {
   "file_extension": ".ijs",
   "mimetype": "text/J",
   "name": "J"
  }
 },
 "nbformat": 4,
 "nbformat_minor": 5
}
